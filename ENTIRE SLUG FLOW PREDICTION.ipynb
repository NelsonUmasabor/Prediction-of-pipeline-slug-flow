{
 "cells": [
  {
   "cell_type": "code",
   "execution_count": 1,
   "source": [
    "import pandas as pd\r\n",
    "import numpy as np"
   ],
   "outputs": [],
   "metadata": {}
  },
  {
   "cell_type": "code",
   "execution_count": 2,
   "source": [
    "data = pd.read_csv(\"Entire runs.csv\")"
   ],
   "outputs": [],
   "metadata": {}
  },
  {
   "cell_type": "code",
   "execution_count": 3,
   "source": [
    "data"
   ],
   "outputs": [
    {
     "output_type": "execute_result",
     "data": {
      "text/html": [
       "<div>\n",
       "<style scoped>\n",
       "    .dataframe tbody tr th:only-of-type {\n",
       "        vertical-align: middle;\n",
       "    }\n",
       "\n",
       "    .dataframe tbody tr th {\n",
       "        vertical-align: top;\n",
       "    }\n",
       "\n",
       "    .dataframe thead th {\n",
       "        text-align: right;\n",
       "    }\n",
       "</style>\n",
       "<table border=\"1\" class=\"dataframe\">\n",
       "  <thead>\n",
       "    <tr style=\"text-align: right;\">\n",
       "      <th></th>\n",
       "      <th>Time(s)</th>\n",
       "      <th>Usl(m/s)</th>\n",
       "      <th>Usg(m/s)</th>\n",
       "      <th>Hl (output)</th>\n",
       "    </tr>\n",
       "  </thead>\n",
       "  <tbody>\n",
       "    <tr>\n",
       "      <th>0</th>\n",
       "      <td>0.000</td>\n",
       "      <td>0.050</td>\n",
       "      <td>0.047</td>\n",
       "      <td>0.8946</td>\n",
       "    </tr>\n",
       "    <tr>\n",
       "      <th>1</th>\n",
       "      <td>0.005</td>\n",
       "      <td>0.050</td>\n",
       "      <td>0.047</td>\n",
       "      <td>0.8969</td>\n",
       "    </tr>\n",
       "    <tr>\n",
       "      <th>2</th>\n",
       "      <td>0.010</td>\n",
       "      <td>0.050</td>\n",
       "      <td>0.047</td>\n",
       "      <td>0.8953</td>\n",
       "    </tr>\n",
       "    <tr>\n",
       "      <th>3</th>\n",
       "      <td>0.015</td>\n",
       "      <td>0.050</td>\n",
       "      <td>0.047</td>\n",
       "      <td>0.8972</td>\n",
       "    </tr>\n",
       "    <tr>\n",
       "      <th>4</th>\n",
       "      <td>0.020</td>\n",
       "      <td>0.050</td>\n",
       "      <td>0.047</td>\n",
       "      <td>0.8964</td>\n",
       "    </tr>\n",
       "    <tr>\n",
       "      <th>...</th>\n",
       "      <td>...</td>\n",
       "      <td>...</td>\n",
       "      <td>...</td>\n",
       "      <td>...</td>\n",
       "    </tr>\n",
       "    <tr>\n",
       "      <th>239995</th>\n",
       "      <td>59.975</td>\n",
       "      <td>0.071</td>\n",
       "      <td>0.709</td>\n",
       "      <td>0.3009</td>\n",
       "    </tr>\n",
       "    <tr>\n",
       "      <th>239996</th>\n",
       "      <td>59.980</td>\n",
       "      <td>0.071</td>\n",
       "      <td>0.709</td>\n",
       "      <td>0.2903</td>\n",
       "    </tr>\n",
       "    <tr>\n",
       "      <th>239997</th>\n",
       "      <td>59.985</td>\n",
       "      <td>0.071</td>\n",
       "      <td>0.709</td>\n",
       "      <td>0.2803</td>\n",
       "    </tr>\n",
       "    <tr>\n",
       "      <th>239998</th>\n",
       "      <td>59.990</td>\n",
       "      <td>0.071</td>\n",
       "      <td>0.709</td>\n",
       "      <td>0.2718</td>\n",
       "    </tr>\n",
       "    <tr>\n",
       "      <th>239999</th>\n",
       "      <td>59.995</td>\n",
       "      <td>0.071</td>\n",
       "      <td>0.709</td>\n",
       "      <td>0.2654</td>\n",
       "    </tr>\n",
       "  </tbody>\n",
       "</table>\n",
       "<p>240000 rows × 4 columns</p>\n",
       "</div>"
      ],
      "text/plain": [
       "        Time(s)  Usl(m/s)  Usg(m/s)  Hl (output)\n",
       "0         0.000     0.050     0.047       0.8946\n",
       "1         0.005     0.050     0.047       0.8969\n",
       "2         0.010     0.050     0.047       0.8953\n",
       "3         0.015     0.050     0.047       0.8972\n",
       "4         0.020     0.050     0.047       0.8964\n",
       "...         ...       ...       ...          ...\n",
       "239995   59.975     0.071     0.709       0.3009\n",
       "239996   59.980     0.071     0.709       0.2903\n",
       "239997   59.985     0.071     0.709       0.2803\n",
       "239998   59.990     0.071     0.709       0.2718\n",
       "239999   59.995     0.071     0.709       0.2654\n",
       "\n",
       "[240000 rows x 4 columns]"
      ]
     },
     "metadata": {},
     "execution_count": 3
    }
   ],
   "metadata": {
    "scrolled": true
   }
  },
  {
   "cell_type": "code",
   "execution_count": 4,
   "source": [
    "data.describe()"
   ],
   "outputs": [
    {
     "output_type": "execute_result",
     "data": {
      "text/html": [
       "<div>\n",
       "<style scoped>\n",
       "    .dataframe tbody tr th:only-of-type {\n",
       "        vertical-align: middle;\n",
       "    }\n",
       "\n",
       "    .dataframe tbody tr th {\n",
       "        vertical-align: top;\n",
       "    }\n",
       "\n",
       "    .dataframe thead th {\n",
       "        text-align: right;\n",
       "    }\n",
       "</style>\n",
       "<table border=\"1\" class=\"dataframe\">\n",
       "  <thead>\n",
       "    <tr style=\"text-align: right;\">\n",
       "      <th></th>\n",
       "      <th>Time(s)</th>\n",
       "      <th>Usl(m/s)</th>\n",
       "      <th>Usg(m/s)</th>\n",
       "      <th>Hl (output)</th>\n",
       "    </tr>\n",
       "  </thead>\n",
       "  <tbody>\n",
       "    <tr>\n",
       "      <th>count</th>\n",
       "      <td>240000.000000</td>\n",
       "      <td>240000.000000</td>\n",
       "      <td>240000.000000</td>\n",
       "      <td>240000.000000</td>\n",
       "    </tr>\n",
       "    <tr>\n",
       "      <th>mean</th>\n",
       "      <td>29.997500</td>\n",
       "      <td>0.057350</td>\n",
       "      <td>0.948000</td>\n",
       "      <td>0.502006</td>\n",
       "    </tr>\n",
       "    <tr>\n",
       "      <th>std</th>\n",
       "      <td>17.320544</td>\n",
       "      <td>0.010016</td>\n",
       "      <td>1.157874</td>\n",
       "      <td>0.262179</td>\n",
       "    </tr>\n",
       "    <tr>\n",
       "      <th>min</th>\n",
       "      <td>0.000000</td>\n",
       "      <td>0.050000</td>\n",
       "      <td>0.047000</td>\n",
       "      <td>-0.026800</td>\n",
       "    </tr>\n",
       "    <tr>\n",
       "      <th>25%</th>\n",
       "      <td>14.998750</td>\n",
       "      <td>0.050000</td>\n",
       "      <td>0.288000</td>\n",
       "      <td>0.266100</td>\n",
       "    </tr>\n",
       "    <tr>\n",
       "      <th>50%</th>\n",
       "      <td>29.997500</td>\n",
       "      <td>0.050000</td>\n",
       "      <td>0.474000</td>\n",
       "      <td>0.485600</td>\n",
       "    </tr>\n",
       "    <tr>\n",
       "      <th>75%</th>\n",
       "      <td>44.996250</td>\n",
       "      <td>0.071000</td>\n",
       "      <td>1.063250</td>\n",
       "      <td>0.750800</td>\n",
       "    </tr>\n",
       "    <tr>\n",
       "      <th>max</th>\n",
       "      <td>59.995000</td>\n",
       "      <td>0.071000</td>\n",
       "      <td>4.727000</td>\n",
       "      <td>0.943400</td>\n",
       "    </tr>\n",
       "  </tbody>\n",
       "</table>\n",
       "</div>"
      ],
      "text/plain": [
       "             Time(s)       Usl(m/s)       Usg(m/s)    Hl (output)\n",
       "count  240000.000000  240000.000000  240000.000000  240000.000000\n",
       "mean       29.997500       0.057350       0.948000       0.502006\n",
       "std        17.320544       0.010016       1.157874       0.262179\n",
       "min         0.000000       0.050000       0.047000      -0.026800\n",
       "25%        14.998750       0.050000       0.288000       0.266100\n",
       "50%        29.997500       0.050000       0.474000       0.485600\n",
       "75%        44.996250       0.071000       1.063250       0.750800\n",
       "max        59.995000       0.071000       4.727000       0.943400"
      ]
     },
     "metadata": {},
     "execution_count": 4
    }
   ],
   "metadata": {}
  },
  {
   "cell_type": "code",
   "execution_count": 5,
   "source": [
    "data.info()"
   ],
   "outputs": [
    {
     "output_type": "stream",
     "name": "stdout",
     "text": [
      "<class 'pandas.core.frame.DataFrame'>\n",
      "RangeIndex: 240000 entries, 0 to 239999\n",
      "Data columns (total 4 columns):\n",
      " #   Column       Non-Null Count   Dtype  \n",
      "---  ------       --------------   -----  \n",
      " 0   Time(s)      240000 non-null  float64\n",
      " 1   Usl(m/s)     240000 non-null  float64\n",
      " 2   Usg(m/s)     240000 non-null  float64\n",
      " 3   Hl (output)  240000 non-null  float64\n",
      "dtypes: float64(4)\n",
      "memory usage: 7.3 MB\n"
     ]
    }
   ],
   "metadata": {}
  },
  {
   "cell_type": "code",
   "execution_count": 6,
   "source": [
    "data.isnull().any()"
   ],
   "outputs": [
    {
     "output_type": "execute_result",
     "data": {
      "text/plain": [
       "Time(s)        False\n",
       "Usl(m/s)       False\n",
       "Usg(m/s)       False\n",
       "Hl (output)    False\n",
       "dtype: bool"
      ]
     },
     "metadata": {},
     "execution_count": 6
    }
   ],
   "metadata": {}
  },
  {
   "cell_type": "code",
   "execution_count": 7,
   "source": [
    "X = data[[\"Time(s)\",\"Usl(m/s)\",\"Usg(m/s)\"]]\r\n",
    "y = data[\"Hl (output)\"]"
   ],
   "outputs": [],
   "metadata": {}
  },
  {
   "cell_type": "code",
   "execution_count": 8,
   "source": [
    "from sklearn.model_selection import train_test_split\r\n",
    "X_train, X_test, y_train, y_test = train_test_split(X, y,test_size=0.3,random_state = 1)"
   ],
   "outputs": [],
   "metadata": {}
  },
  {
   "cell_type": "code",
   "execution_count": 9,
   "source": [
    "X_train.shape"
   ],
   "outputs": [
    {
     "output_type": "execute_result",
     "data": {
      "text/plain": [
       "(168000, 3)"
      ]
     },
     "metadata": {},
     "execution_count": 9
    }
   ],
   "metadata": {}
  },
  {
   "cell_type": "code",
   "execution_count": 10,
   "source": [
    "y_train.shape"
   ],
   "outputs": [
    {
     "output_type": "execute_result",
     "data": {
      "text/plain": [
       "(168000,)"
      ]
     },
     "metadata": {},
     "execution_count": 10
    }
   ],
   "metadata": {}
  },
  {
   "cell_type": "code",
   "execution_count": 11,
   "source": [
    "import numpy as np\r\n",
    "from keras.models import Sequential\r\n",
    "from keras.layers import Dense\r\n",
    "model = Sequential()\r\n",
    "model.add(Dense(20, input_dim=X_train.shape[1], kernel_initializer='normal', activation='relu'))\r\n",
    "model.add(Dense(20, kernel_initializer='normal', activation='relu'))\r\n",
    "model.add(Dense(1, kernel_initializer='normal'))\r\n",
    "# Compile model\r\n",
    "model.compile(loss='mean_squared_error', optimizer='adam')\r\n",
    "model.fit(X_train,y_train,batch_size=32,epochs=10,verbose=1,\r\n",
    "        validation_data=(X_test,y_test))"
   ],
   "outputs": [
    {
     "output_type": "stream",
     "name": "stdout",
     "text": [
      "Epoch 1/10\n",
      "5250/5250 [==============================] - 40s 8ms/step - loss: 0.0291 - val_loss: 0.0256\n",
      "Epoch 2/10\n",
      "5250/5250 [==============================] - 40s 8ms/step - loss: 0.0251 - val_loss: 0.0247: 0.0\n",
      "Epoch 3/10\n",
      "5250/5250 [==============================] - 38s 7ms/step - loss: 0.0248 - val_loss: 0.0245\n",
      "Epoch 4/10\n",
      "5250/5250 [==============================] - 42s 8ms/step - loss: 0.0247 - val_loss: 0.0246\n",
      "Epoch 5/10\n",
      "5250/5250 [==============================] - 42s 8ms/step - loss: 0.0246 - val_loss: 0.0243\n",
      "Epoch 6/10\n",
      "5250/5250 [==============================] - 39s 7ms/step - loss: 0.0245 - val_loss: 0.0246\n",
      "Epoch 7/10\n",
      "5250/5250 [==============================] - 39s 7ms/step - loss: 0.0244 - val_loss: 0.0247\n",
      "Epoch 8/10\n",
      "5250/5250 [==============================] - 39s 7ms/step - loss: 0.0244 - val_loss: 0.0241\n",
      "Epoch 9/10\n",
      "5250/5250 [==============================] - 42s 8ms/step - loss: 0.0244 - val_loss: 0.0242\n",
      "Epoch 10/10\n",
      "5250/5250 [==============================] - 39s 7ms/step - loss: 0.0244 - val_loss: 0.0243\n"
     ]
    },
    {
     "output_type": "execute_result",
     "data": {
      "text/plain": [
       "<tensorflow.python.keras.callbacks.History at 0x1f5bd1a74f0>"
      ]
     },
     "metadata": {},
     "execution_count": 11
    }
   ],
   "metadata": {}
  },
  {
   "cell_type": "code",
   "execution_count": 12,
   "source": [
    "score = model.evaluate(X_test,y_test,batch_size=32)"
   ],
   "outputs": [
    {
     "output_type": "stream",
     "name": "stdout",
     "text": [
      "2250/2250 [==============================] - 12s 5ms/step - loss: 0.0243: 0s - loss: 0.0\n"
     ]
    }
   ],
   "metadata": {}
  },
  {
   "cell_type": "code",
   "execution_count": 13,
   "source": [
    "pred = model.predict(X_test, batch_size=32)"
   ],
   "outputs": [],
   "metadata": {}
  },
  {
   "cell_type": "code",
   "execution_count": 14,
   "source": [
    "from sklearn.metrics import mean_squared_error\r\n",
    "print(mean_squared_error(y_test,pred))"
   ],
   "outputs": [
    {
     "output_type": "stream",
     "name": "stdout",
     "text": [
      "0.02427198991522083\n"
     ]
    }
   ],
   "metadata": {}
  },
  {
   "cell_type": "code",
   "execution_count": 15,
   "source": [
    "from sklearn.ensemble import RandomForestRegressor\r\n",
    "rfr = RandomForestRegressor(random_state = 1)\r\n",
    "rfr.fit(X_train,y_train)\r\n",
    "predict = rfr.predict(X_test)\r\n",
    "from sklearn.metrics import mean_squared_error,mean_absolute_error\r\n",
    "print(mean_squared_error(y_test,predict))"
   ],
   "outputs": [
    {
     "output_type": "stream",
     "name": "stdout",
     "text": [
      "0.001522614161168401\n"
     ]
    }
   ],
   "metadata": {}
  },
  {
   "cell_type": "code",
   "execution_count": 16,
   "source": [
    "pred = pd.DataFrame(pred)\r\n",
    "predict = pd.DataFrame(predict)"
   ],
   "outputs": [],
   "metadata": {}
  },
  {
   "cell_type": "code",
   "execution_count": 17,
   "source": [
    "X_test.reset_index(drop=True, inplace=True)\r\n",
    "y_test.reset_index(drop=True, inplace=True)\r\n",
    "pred.reset_index(drop=True, inplace=True)\r\n",
    "predict.reset_index(drop=True, inplace=True)"
   ],
   "outputs": [],
   "metadata": {}
  },
  {
   "cell_type": "code",
   "execution_count": 18,
   "source": [
    "pred[\"ANN\"] = pred\r\n",
    "predict[\"Random_Forrest\"] = predict"
   ],
   "outputs": [],
   "metadata": {}
  },
  {
   "cell_type": "code",
   "execution_count": 19,
   "source": [
    "predict.columns"
   ],
   "outputs": [
    {
     "output_type": "execute_result",
     "data": {
      "text/plain": [
       "Index([0, 'Random_Forrest'], dtype='object')"
      ]
     },
     "metadata": {},
     "execution_count": 19
    }
   ],
   "metadata": {}
  },
  {
   "cell_type": "code",
   "execution_count": 24,
   "source": [
    "pred.columns"
   ],
   "outputs": [
    {
     "output_type": "execute_result",
     "data": {
      "text/plain": [
       "Index([0, 'ANN'], dtype='object')"
      ]
     },
     "metadata": {},
     "execution_count": 24
    }
   ],
   "metadata": {}
  },
  {
   "cell_type": "code",
   "execution_count": null,
   "source": [
    "predict.drop(0,  axis='columns', inplace=True)\r\n",
    "\r\n"
   ],
   "outputs": [],
   "metadata": {}
  },
  {
   "cell_type": "code",
   "execution_count": 26,
   "source": [
    "pred.drop(0,  axis='columns', inplace=True)"
   ],
   "outputs": [],
   "metadata": {}
  },
  {
   "cell_type": "code",
   "execution_count": 31,
   "source": [
    "predictedentireruns = pd.concat([X_test,y_test,pred,predict], axis=1)"
   ],
   "outputs": [],
   "metadata": {}
  },
  {
   "cell_type": "code",
   "execution_count": 32,
   "source": [
    "predictedentireruns"
   ],
   "outputs": [
    {
     "output_type": "execute_result",
     "data": {
      "text/html": [
       "<div>\n",
       "<style scoped>\n",
       "    .dataframe tbody tr th:only-of-type {\n",
       "        vertical-align: middle;\n",
       "    }\n",
       "\n",
       "    .dataframe tbody tr th {\n",
       "        vertical-align: top;\n",
       "    }\n",
       "\n",
       "    .dataframe thead th {\n",
       "        text-align: right;\n",
       "    }\n",
       "</style>\n",
       "<table border=\"1\" class=\"dataframe\">\n",
       "  <thead>\n",
       "    <tr style=\"text-align: right;\">\n",
       "      <th></th>\n",
       "      <th>Time(s)</th>\n",
       "      <th>Usl(m/s)</th>\n",
       "      <th>Usg(m/s)</th>\n",
       "      <th>Hl (output)</th>\n",
       "      <th>ANN</th>\n",
       "      <th>Random_Forrest</th>\n",
       "    </tr>\n",
       "  </thead>\n",
       "  <tbody>\n",
       "    <tr>\n",
       "      <th>0</th>\n",
       "      <td>4.135</td>\n",
       "      <td>0.050</td>\n",
       "      <td>2.836</td>\n",
       "      <td>0.1411</td>\n",
       "      <td>0.181547</td>\n",
       "      <td>0.140224</td>\n",
       "    </tr>\n",
       "    <tr>\n",
       "      <th>1</th>\n",
       "      <td>30.040</td>\n",
       "      <td>0.071</td>\n",
       "      <td>0.404</td>\n",
       "      <td>0.4695</td>\n",
       "      <td>0.528445</td>\n",
       "      <td>0.460719</td>\n",
       "    </tr>\n",
       "    <tr>\n",
       "      <th>2</th>\n",
       "      <td>45.280</td>\n",
       "      <td>0.071</td>\n",
       "      <td>0.288</td>\n",
       "      <td>0.3494</td>\n",
       "      <td>0.600754</td>\n",
       "      <td>0.353662</td>\n",
       "    </tr>\n",
       "    <tr>\n",
       "      <th>3</th>\n",
       "      <td>57.330</td>\n",
       "      <td>0.050</td>\n",
       "      <td>2.363</td>\n",
       "      <td>0.2877</td>\n",
       "      <td>0.222031</td>\n",
       "      <td>0.293050</td>\n",
       "    </tr>\n",
       "    <tr>\n",
       "      <th>4</th>\n",
       "      <td>16.510</td>\n",
       "      <td>0.071</td>\n",
       "      <td>0.404</td>\n",
       "      <td>0.2556</td>\n",
       "      <td>0.523133</td>\n",
       "      <td>0.254821</td>\n",
       "    </tr>\n",
       "    <tr>\n",
       "      <th>...</th>\n",
       "      <td>...</td>\n",
       "      <td>...</td>\n",
       "      <td>...</td>\n",
       "      <td>...</td>\n",
       "      <td>...</td>\n",
       "      <td>...</td>\n",
       "    </tr>\n",
       "    <tr>\n",
       "      <th>71995</th>\n",
       "      <td>14.580</td>\n",
       "      <td>0.071</td>\n",
       "      <td>0.047</td>\n",
       "      <td>0.8243</td>\n",
       "      <td>0.789427</td>\n",
       "      <td>0.825306</td>\n",
       "    </tr>\n",
       "    <tr>\n",
       "      <th>71996</th>\n",
       "      <td>38.210</td>\n",
       "      <td>0.050</td>\n",
       "      <td>0.709</td>\n",
       "      <td>0.6514</td>\n",
       "      <td>0.472859</td>\n",
       "      <td>0.681087</td>\n",
       "    </tr>\n",
       "    <tr>\n",
       "      <th>71997</th>\n",
       "      <td>32.285</td>\n",
       "      <td>0.050</td>\n",
       "      <td>0.288</td>\n",
       "      <td>0.6327</td>\n",
       "      <td>0.633263</td>\n",
       "      <td>0.611524</td>\n",
       "    </tr>\n",
       "    <tr>\n",
       "      <th>71998</th>\n",
       "      <td>40.865</td>\n",
       "      <td>0.050</td>\n",
       "      <td>0.544</td>\n",
       "      <td>0.7528</td>\n",
       "      <td>0.521155</td>\n",
       "      <td>0.732986</td>\n",
       "    </tr>\n",
       "    <tr>\n",
       "      <th>71999</th>\n",
       "      <td>21.640</td>\n",
       "      <td>0.050</td>\n",
       "      <td>1.418</td>\n",
       "      <td>0.3245</td>\n",
       "      <td>0.337013</td>\n",
       "      <td>0.313482</td>\n",
       "    </tr>\n",
       "  </tbody>\n",
       "</table>\n",
       "<p>72000 rows × 6 columns</p>\n",
       "</div>"
      ],
      "text/plain": [
       "       Time(s)  Usl(m/s)  Usg(m/s)  Hl (output)       ANN  Random_Forrest\n",
       "0        4.135     0.050     2.836       0.1411  0.181547        0.140224\n",
       "1       30.040     0.071     0.404       0.4695  0.528445        0.460719\n",
       "2       45.280     0.071     0.288       0.3494  0.600754        0.353662\n",
       "3       57.330     0.050     2.363       0.2877  0.222031        0.293050\n",
       "4       16.510     0.071     0.404       0.2556  0.523133        0.254821\n",
       "...        ...       ...       ...          ...       ...             ...\n",
       "71995   14.580     0.071     0.047       0.8243  0.789427        0.825306\n",
       "71996   38.210     0.050     0.709       0.6514  0.472859        0.681087\n",
       "71997   32.285     0.050     0.288       0.6327  0.633263        0.611524\n",
       "71998   40.865     0.050     0.544       0.7528  0.521155        0.732986\n",
       "71999   21.640     0.050     1.418       0.3245  0.337013        0.313482\n",
       "\n",
       "[72000 rows x 6 columns]"
      ]
     },
     "metadata": {},
     "execution_count": 32
    }
   ],
   "metadata": {}
  },
  {
   "cell_type": "code",
   "execution_count": 33,
   "source": [
    "predictedentireruns.to_csv(\"predictedentireruns.csv\")"
   ],
   "outputs": [],
   "metadata": {}
  },
  {
   "cell_type": "code",
   "execution_count": null,
   "source": [],
   "outputs": [],
   "metadata": {}
  }
 ],
 "metadata": {
  "kernelspec": {
   "display_name": "Python 3",
   "language": "python",
   "name": "python3"
  },
  "language_info": {
   "codemirror_mode": {
    "name": "ipython",
    "version": 3
   },
   "file_extension": ".py",
   "mimetype": "text/x-python",
   "name": "python",
   "nbconvert_exporter": "python",
   "pygments_lexer": "ipython3",
   "version": "3.8.5"
  }
 },
 "nbformat": 4,
 "nbformat_minor": 5
}