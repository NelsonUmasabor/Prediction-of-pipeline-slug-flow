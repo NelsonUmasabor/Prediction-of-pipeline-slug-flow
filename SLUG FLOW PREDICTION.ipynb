{
 "cells": [
  {
   "cell_type": "code",
   "execution_count": 133,
   "source": [
    "import pandas as pd\r\n",
    "import numpy as np"
   ],
   "outputs": [],
   "metadata": {}
  },
  {
   "cell_type": "code",
   "execution_count": 134,
   "source": [
    "data = pd.read_csv(\"run1.csv\")"
   ],
   "outputs": [],
   "metadata": {}
  },
  {
   "cell_type": "code",
   "execution_count": 135,
   "source": [
    "data"
   ],
   "outputs": [
    {
     "output_type": "execute_result",
     "data": {
      "text/html": [
       "<div>\n",
       "<style scoped>\n",
       "    .dataframe tbody tr th:only-of-type {\n",
       "        vertical-align: middle;\n",
       "    }\n",
       "\n",
       "    .dataframe tbody tr th {\n",
       "        vertical-align: top;\n",
       "    }\n",
       "\n",
       "    .dataframe thead th {\n",
       "        text-align: right;\n",
       "    }\n",
       "</style>\n",
       "<table border=\"1\" class=\"dataframe\">\n",
       "  <thead>\n",
       "    <tr style=\"text-align: right;\">\n",
       "      <th></th>\n",
       "      <th>Time (sec)</th>\n",
       "      <th>Usl(m/s)</th>\n",
       "      <th>Usg(m/s)</th>\n",
       "      <th>Vf</th>\n",
       "      <th>bins</th>\n",
       "      <th>Freq.</th>\n",
       "      <th>PDF</th>\n",
       "      <th>Hl</th>\n",
       "    </tr>\n",
       "  </thead>\n",
       "  <tbody>\n",
       "    <tr>\n",
       "      <th>0</th>\n",
       "      <td>0.0000</td>\n",
       "      <td>0.05</td>\n",
       "      <td>0.047</td>\n",
       "      <td>0.105400</td>\n",
       "      <td>0.01</td>\n",
       "      <td>0</td>\n",
       "      <td>0.0</td>\n",
       "      <td>0.894600</td>\n",
       "    </tr>\n",
       "    <tr>\n",
       "      <th>1</th>\n",
       "      <td>0.0050</td>\n",
       "      <td>0.05</td>\n",
       "      <td>0.047</td>\n",
       "      <td>0.103100</td>\n",
       "      <td>0.02</td>\n",
       "      <td>0</td>\n",
       "      <td>0.0</td>\n",
       "      <td>0.896900</td>\n",
       "    </tr>\n",
       "    <tr>\n",
       "      <th>2</th>\n",
       "      <td>0.0100</td>\n",
       "      <td>0.05</td>\n",
       "      <td>0.047</td>\n",
       "      <td>0.104700</td>\n",
       "      <td>0.03</td>\n",
       "      <td>0</td>\n",
       "      <td>0.0</td>\n",
       "      <td>0.895300</td>\n",
       "    </tr>\n",
       "    <tr>\n",
       "      <th>3</th>\n",
       "      <td>0.0150</td>\n",
       "      <td>0.05</td>\n",
       "      <td>0.047</td>\n",
       "      <td>0.102800</td>\n",
       "      <td>0.04</td>\n",
       "      <td>0</td>\n",
       "      <td>0.0</td>\n",
       "      <td>0.897200</td>\n",
       "    </tr>\n",
       "    <tr>\n",
       "      <th>4</th>\n",
       "      <td>0.0200</td>\n",
       "      <td>0.05</td>\n",
       "      <td>0.047</td>\n",
       "      <td>0.103600</td>\n",
       "      <td>0.05</td>\n",
       "      <td>0</td>\n",
       "      <td>0.0</td>\n",
       "      <td>0.896400</td>\n",
       "    </tr>\n",
       "    <tr>\n",
       "      <th>...</th>\n",
       "      <td>...</td>\n",
       "      <td>...</td>\n",
       "      <td>...</td>\n",
       "      <td>...</td>\n",
       "      <td>...</td>\n",
       "      <td>...</td>\n",
       "      <td>...</td>\n",
       "      <td>...</td>\n",
       "    </tr>\n",
       "    <tr>\n",
       "      <th>11996</th>\n",
       "      <td>59.9800</td>\n",
       "      <td>0.05</td>\n",
       "      <td>0.047</td>\n",
       "      <td>0.115300</td>\n",
       "      <td>0.00</td>\n",
       "      <td>0</td>\n",
       "      <td>0.0</td>\n",
       "      <td>0.884700</td>\n",
       "    </tr>\n",
       "    <tr>\n",
       "      <th>11997</th>\n",
       "      <td>59.9850</td>\n",
       "      <td>0.05</td>\n",
       "      <td>0.047</td>\n",
       "      <td>0.117400</td>\n",
       "      <td>0.00</td>\n",
       "      <td>0</td>\n",
       "      <td>0.0</td>\n",
       "      <td>0.882600</td>\n",
       "    </tr>\n",
       "    <tr>\n",
       "      <th>11998</th>\n",
       "      <td>59.9900</td>\n",
       "      <td>0.05</td>\n",
       "      <td>0.047</td>\n",
       "      <td>0.117200</td>\n",
       "      <td>0.00</td>\n",
       "      <td>0</td>\n",
       "      <td>0.0</td>\n",
       "      <td>0.882800</td>\n",
       "    </tr>\n",
       "    <tr>\n",
       "      <th>11999</th>\n",
       "      <td>59.9950</td>\n",
       "      <td>0.05</td>\n",
       "      <td>0.047</td>\n",
       "      <td>0.118500</td>\n",
       "      <td>0.00</td>\n",
       "      <td>0</td>\n",
       "      <td>0.0</td>\n",
       "      <td>0.881500</td>\n",
       "    </tr>\n",
       "    <tr>\n",
       "      <th>12000</th>\n",
       "      <td>29.9975</td>\n",
       "      <td>0.05</td>\n",
       "      <td>0.047</td>\n",
       "      <td>0.151716</td>\n",
       "      <td>0.00</td>\n",
       "      <td>0</td>\n",
       "      <td>0.0</td>\n",
       "      <td>0.848284</td>\n",
       "    </tr>\n",
       "  </tbody>\n",
       "</table>\n",
       "<p>12001 rows × 8 columns</p>\n",
       "</div>"
      ],
      "text/plain": [
       "       Time (sec)  Usl(m/s)  Usg(m/s)        Vf  bins  Freq.  PDF        Hl\n",
       "0          0.0000      0.05     0.047  0.105400  0.01      0  0.0  0.894600\n",
       "1          0.0050      0.05     0.047  0.103100  0.02      0  0.0  0.896900\n",
       "2          0.0100      0.05     0.047  0.104700  0.03      0  0.0  0.895300\n",
       "3          0.0150      0.05     0.047  0.102800  0.04      0  0.0  0.897200\n",
       "4          0.0200      0.05     0.047  0.103600  0.05      0  0.0  0.896400\n",
       "...           ...       ...       ...       ...   ...    ...  ...       ...\n",
       "11996     59.9800      0.05     0.047  0.115300  0.00      0  0.0  0.884700\n",
       "11997     59.9850      0.05     0.047  0.117400  0.00      0  0.0  0.882600\n",
       "11998     59.9900      0.05     0.047  0.117200  0.00      0  0.0  0.882800\n",
       "11999     59.9950      0.05     0.047  0.118500  0.00      0  0.0  0.881500\n",
       "12000     29.9975      0.05     0.047  0.151716  0.00      0  0.0  0.848284\n",
       "\n",
       "[12001 rows x 8 columns]"
      ]
     },
     "metadata": {},
     "execution_count": 135
    }
   ],
   "metadata": {}
  },
  {
   "cell_type": "code",
   "execution_count": 136,
   "source": [
    "data.describe()"
   ],
   "outputs": [
    {
     "output_type": "execute_result",
     "data": {
      "text/html": [
       "<div>\n",
       "<style scoped>\n",
       "    .dataframe tbody tr th:only-of-type {\n",
       "        vertical-align: middle;\n",
       "    }\n",
       "\n",
       "    .dataframe tbody tr th {\n",
       "        vertical-align: top;\n",
       "    }\n",
       "\n",
       "    .dataframe thead th {\n",
       "        text-align: right;\n",
       "    }\n",
       "</style>\n",
       "<table border=\"1\" class=\"dataframe\">\n",
       "  <thead>\n",
       "    <tr style=\"text-align: right;\">\n",
       "      <th></th>\n",
       "      <th>Time (sec)</th>\n",
       "      <th>Usl(m/s)</th>\n",
       "      <th>Usg(m/s)</th>\n",
       "      <th>Vf</th>\n",
       "      <th>bins</th>\n",
       "      <th>Freq.</th>\n",
       "      <th>PDF</th>\n",
       "      <th>Hl</th>\n",
       "    </tr>\n",
       "  </thead>\n",
       "  <tbody>\n",
       "    <tr>\n",
       "      <th>count</th>\n",
       "      <td>12001.000000</td>\n",
       "      <td>1.200100e+04</td>\n",
       "      <td>12001.000</td>\n",
       "      <td>12001.000000</td>\n",
       "      <td>12001.000000</td>\n",
       "      <td>12001.000000</td>\n",
       "      <td>12001.000000</td>\n",
       "      <td>12001.000000</td>\n",
       "    </tr>\n",
       "    <tr>\n",
       "      <th>mean</th>\n",
       "      <td>29.997500</td>\n",
       "      <td>5.000000e-02</td>\n",
       "      <td>0.047</td>\n",
       "      <td>0.151716</td>\n",
       "      <td>0.004208</td>\n",
       "      <td>0.999917</td>\n",
       "      <td>0.000083</td>\n",
       "      <td>0.848284</td>\n",
       "    </tr>\n",
       "    <tr>\n",
       "      <th>std</th>\n",
       "      <td>17.320508</td>\n",
       "      <td>1.387837e-17</td>\n",
       "      <td>0.000</td>\n",
       "      <td>0.104801</td>\n",
       "      <td>0.052933</td>\n",
       "      <td>36.803896</td>\n",
       "      <td>0.003067</td>\n",
       "      <td>0.104801</td>\n",
       "    </tr>\n",
       "    <tr>\n",
       "      <th>min</th>\n",
       "      <td>0.000000</td>\n",
       "      <td>5.000000e-02</td>\n",
       "      <td>0.047</td>\n",
       "      <td>0.063800</td>\n",
       "      <td>0.000000</td>\n",
       "      <td>0.000000</td>\n",
       "      <td>0.000000</td>\n",
       "      <td>0.446900</td>\n",
       "    </tr>\n",
       "    <tr>\n",
       "      <th>25%</th>\n",
       "      <td>15.000000</td>\n",
       "      <td>5.000000e-02</td>\n",
       "      <td>0.047</td>\n",
       "      <td>0.094600</td>\n",
       "      <td>0.000000</td>\n",
       "      <td>0.000000</td>\n",
       "      <td>0.000000</td>\n",
       "      <td>0.859600</td>\n",
       "    </tr>\n",
       "    <tr>\n",
       "      <th>50%</th>\n",
       "      <td>29.997500</td>\n",
       "      <td>5.000000e-02</td>\n",
       "      <td>0.047</td>\n",
       "      <td>0.106700</td>\n",
       "      <td>0.000000</td>\n",
       "      <td>0.000000</td>\n",
       "      <td>0.000000</td>\n",
       "      <td>0.893300</td>\n",
       "    </tr>\n",
       "    <tr>\n",
       "      <th>75%</th>\n",
       "      <td>44.995000</td>\n",
       "      <td>5.000000e-02</td>\n",
       "      <td>0.047</td>\n",
       "      <td>0.140400</td>\n",
       "      <td>0.000000</td>\n",
       "      <td>0.000000</td>\n",
       "      <td>0.000000</td>\n",
       "      <td>0.905400</td>\n",
       "    </tr>\n",
       "    <tr>\n",
       "      <th>max</th>\n",
       "      <td>59.995000</td>\n",
       "      <td>5.000000e-02</td>\n",
       "      <td>0.047</td>\n",
       "      <td>0.553100</td>\n",
       "      <td>1.000000</td>\n",
       "      <td>2357.000000</td>\n",
       "      <td>0.196417</td>\n",
       "      <td>0.936200</td>\n",
       "    </tr>\n",
       "  </tbody>\n",
       "</table>\n",
       "</div>"
      ],
      "text/plain": [
       "         Time (sec)      Usl(m/s)   Usg(m/s)            Vf          bins  \\\n",
       "count  12001.000000  1.200100e+04  12001.000  12001.000000  12001.000000   \n",
       "mean      29.997500  5.000000e-02      0.047      0.151716      0.004208   \n",
       "std       17.320508  1.387837e-17      0.000      0.104801      0.052933   \n",
       "min        0.000000  5.000000e-02      0.047      0.063800      0.000000   \n",
       "25%       15.000000  5.000000e-02      0.047      0.094600      0.000000   \n",
       "50%       29.997500  5.000000e-02      0.047      0.106700      0.000000   \n",
       "75%       44.995000  5.000000e-02      0.047      0.140400      0.000000   \n",
       "max       59.995000  5.000000e-02      0.047      0.553100      1.000000   \n",
       "\n",
       "              Freq.           PDF            Hl  \n",
       "count  12001.000000  12001.000000  12001.000000  \n",
       "mean       0.999917      0.000083      0.848284  \n",
       "std       36.803896      0.003067      0.104801  \n",
       "min        0.000000      0.000000      0.446900  \n",
       "25%        0.000000      0.000000      0.859600  \n",
       "50%        0.000000      0.000000      0.893300  \n",
       "75%        0.000000      0.000000      0.905400  \n",
       "max     2357.000000      0.196417      0.936200  "
      ]
     },
     "metadata": {},
     "execution_count": 136
    }
   ],
   "metadata": {}
  },
  {
   "cell_type": "code",
   "execution_count": 137,
   "source": [
    "data.info()"
   ],
   "outputs": [
    {
     "output_type": "stream",
     "name": "stdout",
     "text": [
      "<class 'pandas.core.frame.DataFrame'>\n",
      "RangeIndex: 12001 entries, 0 to 12000\n",
      "Data columns (total 8 columns):\n",
      " #   Column      Non-Null Count  Dtype  \n",
      "---  ------      --------------  -----  \n",
      " 0   Time (sec)  12001 non-null  float64\n",
      " 1   Usl(m/s)    12001 non-null  float64\n",
      " 2   Usg(m/s)    12001 non-null  float64\n",
      " 3   Vf          12001 non-null  float64\n",
      " 4   bins        12001 non-null  float64\n",
      " 5   Freq.       12001 non-null  int64  \n",
      " 6   PDF         12001 non-null  float64\n",
      " 7   Hl          12001 non-null  float64\n",
      "dtypes: float64(7), int64(1)\n",
      "memory usage: 750.2 KB\n"
     ]
    }
   ],
   "metadata": {}
  },
  {
   "cell_type": "code",
   "execution_count": 138,
   "source": [
    "data.isnull().any()"
   ],
   "outputs": [
    {
     "output_type": "execute_result",
     "data": {
      "text/plain": [
       "Time (sec)    False\n",
       "Usl(m/s)      False\n",
       "Usg(m/s)      False\n",
       "Vf            False\n",
       "bins          False\n",
       "Freq.         False\n",
       "PDF           False\n",
       "Hl            False\n",
       "dtype: bool"
      ]
     },
     "metadata": {},
     "execution_count": 138
    }
   ],
   "metadata": {}
  },
  {
   "cell_type": "code",
   "execution_count": 139,
   "source": [
    "from sklearn.preprocessing import StandardScaler\r\n",
    "scaler = StandardScaler().fit(data)\r\n",
    "standardized_data = scaler.transform(data)\r\n",
    "standardized_data = pd.DataFrame(standardized_data,columns = data.columns)"
   ],
   "outputs": [],
   "metadata": {}
  },
  {
   "cell_type": "code",
   "execution_count": 140,
   "source": [
    "standardized_data"
   ],
   "outputs": [
    {
     "output_type": "execute_result",
     "data": {
      "text/html": [
       "<div>\n",
       "<style scoped>\n",
       "    .dataframe tbody tr th:only-of-type {\n",
       "        vertical-align: middle;\n",
       "    }\n",
       "\n",
       "    .dataframe tbody tr th {\n",
       "        vertical-align: top;\n",
       "    }\n",
       "\n",
       "    .dataframe thead th {\n",
       "        text-align: right;\n",
       "    }\n",
       "</style>\n",
       "<table border=\"1\" class=\"dataframe\">\n",
       "  <thead>\n",
       "    <tr style=\"text-align: right;\">\n",
       "      <th></th>\n",
       "      <th>Time (sec)</th>\n",
       "      <th>Usl(m/s)</th>\n",
       "      <th>Usg(m/s)</th>\n",
       "      <th>Vf</th>\n",
       "      <th>bins</th>\n",
       "      <th>Freq.</th>\n",
       "      <th>PDF</th>\n",
       "      <th>Hl</th>\n",
       "    </tr>\n",
       "  </thead>\n",
       "  <tbody>\n",
       "    <tr>\n",
       "      <th>0</th>\n",
       "      <td>-1.731979</td>\n",
       "      <td>-1.0</td>\n",
       "      <td>0.0</td>\n",
       "      <td>-4.419636e-01</td>\n",
       "      <td>0.109427</td>\n",
       "      <td>-0.02717</td>\n",
       "      <td>-0.02717</td>\n",
       "      <td>4.419636e-01</td>\n",
       "    </tr>\n",
       "    <tr>\n",
       "      <th>1</th>\n",
       "      <td>-1.731690</td>\n",
       "      <td>-1.0</td>\n",
       "      <td>0.0</td>\n",
       "      <td>-4.639108e-01</td>\n",
       "      <td>0.298354</td>\n",
       "      <td>-0.02717</td>\n",
       "      <td>-0.02717</td>\n",
       "      <td>4.639108e-01</td>\n",
       "    </tr>\n",
       "    <tr>\n",
       "      <th>2</th>\n",
       "      <td>-1.731401</td>\n",
       "      <td>-1.0</td>\n",
       "      <td>0.0</td>\n",
       "      <td>-4.486432e-01</td>\n",
       "      <td>0.487281</td>\n",
       "      <td>-0.02717</td>\n",
       "      <td>-0.02717</td>\n",
       "      <td>4.486432e-01</td>\n",
       "    </tr>\n",
       "    <tr>\n",
       "      <th>3</th>\n",
       "      <td>-1.731113</td>\n",
       "      <td>-1.0</td>\n",
       "      <td>0.0</td>\n",
       "      <td>-4.667735e-01</td>\n",
       "      <td>0.676207</td>\n",
       "      <td>-0.02717</td>\n",
       "      <td>-0.02717</td>\n",
       "      <td>4.667735e-01</td>\n",
       "    </tr>\n",
       "    <tr>\n",
       "      <th>4</th>\n",
       "      <td>-1.730824</td>\n",
       "      <td>-1.0</td>\n",
       "      <td>0.0</td>\n",
       "      <td>-4.591397e-01</td>\n",
       "      <td>0.865134</td>\n",
       "      <td>-0.02717</td>\n",
       "      <td>-0.02717</td>\n",
       "      <td>4.591397e-01</td>\n",
       "    </tr>\n",
       "    <tr>\n",
       "      <th>...</th>\n",
       "      <td>...</td>\n",
       "      <td>...</td>\n",
       "      <td>...</td>\n",
       "      <td>...</td>\n",
       "      <td>...</td>\n",
       "      <td>...</td>\n",
       "      <td>...</td>\n",
       "      <td>...</td>\n",
       "    </tr>\n",
       "    <tr>\n",
       "      <th>11996</th>\n",
       "      <td>1.731113</td>\n",
       "      <td>-1.0</td>\n",
       "      <td>0.0</td>\n",
       "      <td>-3.474953e-01</td>\n",
       "      <td>-0.079500</td>\n",
       "      <td>-0.02717</td>\n",
       "      <td>-0.02717</td>\n",
       "      <td>3.474953e-01</td>\n",
       "    </tr>\n",
       "    <tr>\n",
       "      <th>11997</th>\n",
       "      <td>1.731401</td>\n",
       "      <td>-1.0</td>\n",
       "      <td>0.0</td>\n",
       "      <td>-3.274566e-01</td>\n",
       "      <td>-0.079500</td>\n",
       "      <td>-0.02717</td>\n",
       "      <td>-0.02717</td>\n",
       "      <td>3.274566e-01</td>\n",
       "    </tr>\n",
       "    <tr>\n",
       "      <th>11998</th>\n",
       "      <td>1.731690</td>\n",
       "      <td>-1.0</td>\n",
       "      <td>0.0</td>\n",
       "      <td>-3.293650e-01</td>\n",
       "      <td>-0.079500</td>\n",
       "      <td>-0.02717</td>\n",
       "      <td>-0.02717</td>\n",
       "      <td>3.293650e-01</td>\n",
       "    </tr>\n",
       "    <tr>\n",
       "      <th>11999</th>\n",
       "      <td>1.731979</td>\n",
       "      <td>-1.0</td>\n",
       "      <td>0.0</td>\n",
       "      <td>-3.169601e-01</td>\n",
       "      <td>-0.079500</td>\n",
       "      <td>-0.02717</td>\n",
       "      <td>-0.02717</td>\n",
       "      <td>3.169601e-01</td>\n",
       "    </tr>\n",
       "    <tr>\n",
       "      <th>12000</th>\n",
       "      <td>0.000000</td>\n",
       "      <td>-1.0</td>\n",
       "      <td>0.0</td>\n",
       "      <td>-3.180486e-09</td>\n",
       "      <td>-0.079500</td>\n",
       "      <td>-0.02717</td>\n",
       "      <td>-0.02717</td>\n",
       "      <td>3.180486e-09</td>\n",
       "    </tr>\n",
       "  </tbody>\n",
       "</table>\n",
       "<p>12001 rows × 8 columns</p>\n",
       "</div>"
      ],
      "text/plain": [
       "       Time (sec)  Usl(m/s)  Usg(m/s)            Vf      bins    Freq.  \\\n",
       "0       -1.731979      -1.0       0.0 -4.419636e-01  0.109427 -0.02717   \n",
       "1       -1.731690      -1.0       0.0 -4.639108e-01  0.298354 -0.02717   \n",
       "2       -1.731401      -1.0       0.0 -4.486432e-01  0.487281 -0.02717   \n",
       "3       -1.731113      -1.0       0.0 -4.667735e-01  0.676207 -0.02717   \n",
       "4       -1.730824      -1.0       0.0 -4.591397e-01  0.865134 -0.02717   \n",
       "...           ...       ...       ...           ...       ...      ...   \n",
       "11996    1.731113      -1.0       0.0 -3.474953e-01 -0.079500 -0.02717   \n",
       "11997    1.731401      -1.0       0.0 -3.274566e-01 -0.079500 -0.02717   \n",
       "11998    1.731690      -1.0       0.0 -3.293650e-01 -0.079500 -0.02717   \n",
       "11999    1.731979      -1.0       0.0 -3.169601e-01 -0.079500 -0.02717   \n",
       "12000    0.000000      -1.0       0.0 -3.180486e-09 -0.079500 -0.02717   \n",
       "\n",
       "           PDF            Hl  \n",
       "0     -0.02717  4.419636e-01  \n",
       "1     -0.02717  4.639108e-01  \n",
       "2     -0.02717  4.486432e-01  \n",
       "3     -0.02717  4.667735e-01  \n",
       "4     -0.02717  4.591397e-01  \n",
       "...        ...           ...  \n",
       "11996 -0.02717  3.474953e-01  \n",
       "11997 -0.02717  3.274566e-01  \n",
       "11998 -0.02717  3.293650e-01  \n",
       "11999 -0.02717  3.169601e-01  \n",
       "12000 -0.02717  3.180486e-09  \n",
       "\n",
       "[12001 rows x 8 columns]"
      ]
     },
     "metadata": {},
     "execution_count": 140
    }
   ],
   "metadata": {}
  },
  {
   "cell_type": "code",
   "execution_count": 141,
   "source": [
    "X = standardized_data[[\"Time (sec)\",\"Usl(m/s)\",\"Usg(m/s)\",\"Vf\",\"bins\",\"Freq.\",\"PDF\"]]\r\n",
    "y = standardized_data[\"Hl\"]"
   ],
   "outputs": [],
   "metadata": {}
  },
  {
   "cell_type": "code",
   "execution_count": 180,
   "source": [
    "X1 = data[[\"Time (sec)\",\"Usl(m/s)\",\"Usg(m/s)\",\"Vf\",\"bins\",\"Freq.\",\"PDF\"]]\r\n",
    "y1 = data[\"Hl\"]"
   ],
   "outputs": [],
   "metadata": {}
  },
  {
   "cell_type": "code",
   "execution_count": 142,
   "source": [
    "from sklearn.model_selection import train_test_split\r\n",
    "X_train, X_test, y_train, y_test = train_test_split(X, y,test_size=0.3,random_state = 1)"
   ],
   "outputs": [],
   "metadata": {}
  },
  {
   "cell_type": "code",
   "execution_count": 181,
   "source": [
    "from sklearn.model_selection import train_test_split\r\n",
    "X1_train, X1_test, y1_train, y1_test = train_test_split(X1, y1,test_size=0.3,random_state = 1)"
   ],
   "outputs": [],
   "metadata": {}
  },
  {
   "cell_type": "code",
   "execution_count": 143,
   "source": [
    "X_train.shape"
   ],
   "outputs": [
    {
     "output_type": "execute_result",
     "data": {
      "text/plain": [
       "(8400, 7)"
      ]
     },
     "metadata": {},
     "execution_count": 143
    }
   ],
   "metadata": {}
  },
  {
   "cell_type": "code",
   "execution_count": 182,
   "source": [
    "X1_train.shape"
   ],
   "outputs": [
    {
     "output_type": "execute_result",
     "data": {
      "text/plain": [
       "(8400, 7)"
      ]
     },
     "metadata": {},
     "execution_count": 182
    }
   ],
   "metadata": {}
  },
  {
   "cell_type": "code",
   "execution_count": 144,
   "source": [
    "X_test.shape"
   ],
   "outputs": [
    {
     "output_type": "execute_result",
     "data": {
      "text/plain": [
       "(3601, 7)"
      ]
     },
     "metadata": {},
     "execution_count": 144
    }
   ],
   "metadata": {}
  },
  {
   "cell_type": "code",
   "execution_count": 145,
   "source": [
    "y_train.shape"
   ],
   "outputs": [
    {
     "output_type": "execute_result",
     "data": {
      "text/plain": [
       "(8400,)"
      ]
     },
     "metadata": {},
     "execution_count": 145
    }
   ],
   "metadata": {}
  },
  {
   "cell_type": "code",
   "execution_count": 146,
   "source": [
    "# ANN using standardized data\r\n",
    "import numpy as np\r\n",
    "from keras.models import Sequential\r\n",
    "from keras.layers import Dense\r\n",
    "model = Sequential()\r\n",
    "model.add(Dense(20, input_dim=X_train.shape[1], kernel_initializer='normal', activation='relu'))\r\n",
    "model.add(Dense(20, kernel_initializer='normal', activation='relu'))\r\n",
    "model.add(Dense(1, kernel_initializer='normal'))\r\n",
    "# Compile model\r\n",
    "model.compile(loss='mean_squared_error', optimizer='adam')"
   ],
   "outputs": [],
   "metadata": {}
  },
  {
   "cell_type": "code",
   "execution_count": 147,
   "source": [
    "model.fit(X_train,\r\n",
    "y_train,\r\n",
    "batch_size=32,\r\n",
    "epochs=10,\r\n",
    "verbose=1,\r\n",
    "validation_data=(X_test,y_test))"
   ],
   "outputs": [
    {
     "output_type": "stream",
     "name": "stdout",
     "text": [
      "Epoch 1/10\n",
      "263/263 [==============================] - 2s 9ms/step - loss: 0.3484 - val_loss: 0.0019\n",
      "Epoch 2/10\n",
      "263/263 [==============================] - 2s 8ms/step - loss: 0.0015 - val_loss: 8.1314e-04\n",
      "Epoch 3/10\n",
      "263/263 [==============================] - 2s 7ms/step - loss: 5.5645e-04 - val_loss: 5.1394e-04\n",
      "Epoch 4/10\n",
      "263/263 [==============================] - 2s 7ms/step - loss: 5.9179e-04 - val_loss: 5.0623e-04\n",
      "Epoch 5/10\n",
      "263/263 [==============================] - 2s 7ms/step - loss: 1.4061e-04 - val_loss: 2.3771e-04\n",
      "Epoch 6/10\n",
      "263/263 [==============================] - 2s 7ms/step - loss: 1.2166e-04 - val_loss: 1.6231e-04\n",
      "Epoch 7/10\n",
      "263/263 [==============================] - 2s 8ms/step - loss: 1.3490e-04 - val_loss: 9.2755e-05\n",
      "Epoch 8/10\n",
      "263/263 [==============================] - 2s 7ms/step - loss: 8.8262e-05 - val_loss: 3.0684e-04\n",
      "Epoch 9/10\n",
      "263/263 [==============================] - 2s 7ms/step - loss: 1.3448e-04 - val_loss: 7.2123e-05\n",
      "Epoch 10/10\n",
      "263/263 [==============================] - 2s 7ms/step - loss: 6.6377e-05 - val_loss: 6.6287e-05\n"
     ]
    },
    {
     "output_type": "execute_result",
     "data": {
      "text/plain": [
       "<tensorflow.python.keras.callbacks.History at 0x1ef6668ca30>"
      ]
     },
     "metadata": {},
     "execution_count": 147
    }
   ],
   "metadata": {}
  },
  {
   "cell_type": "code",
   "execution_count": 183,
   "source": [
    "# ANN using unstandardized data\r\n",
    "import numpy as np\r\n",
    "from keras.models import Sequential\r\n",
    "from keras.layers import Dense\r\n",
    "model = Sequential()\r\n",
    "model.add(Dense(20, input_dim=X1_train.shape[1], kernel_initializer='normal', activation='relu'))\r\n",
    "model.add(Dense(20, kernel_initializer='normal', activation='relu'))\r\n",
    "model.add(Dense(1, kernel_initializer='normal'))\r\n",
    "# Compile model\r\n",
    "model.compile(loss='mean_squared_error', optimizer='adam')\r\n",
    "model.fit(X1_train,\r\n",
    "y1_train,\r\n",
    "batch_size=32,\r\n",
    "epochs=10,\r\n",
    "verbose=1,\r\n",
    "validation_data=(X1_test,y1_test))\r\n",
    "score = model.evaluate(X1_test,\r\n",
    "y1_test,\r\n",
    "batch_size=32)"
   ],
   "outputs": [
    {
     "output_type": "stream",
     "name": "stdout",
     "text": [
      "Epoch 1/10\n",
      "263/263 [==============================] - 12s 44ms/step - loss: 0.1863 - val_loss: 0.0866\n",
      "Epoch 2/10\n",
      "263/263 [==============================] - 2s 7ms/step - loss: 0.0433 - val_loss: 0.0154\n",
      "Epoch 3/10\n",
      "263/263 [==============================] - 2s 8ms/step - loss: 0.0112 - val_loss: 0.0095\n",
      "Epoch 4/10\n",
      "263/263 [==============================] - 2s 8ms/step - loss: 0.0103 - val_loss: 0.0062\n",
      "Epoch 5/10\n",
      "263/263 [==============================] - 2s 6ms/step - loss: 0.0044 - val_loss: 0.0029\n",
      "Epoch 6/10\n",
      "263/263 [==============================] - 2s 6ms/step - loss: 0.0017 - val_loss: 0.0013\n",
      "Epoch 7/10\n",
      "263/263 [==============================] - 2s 6ms/step - loss: 8.2427e-04 - val_loss: 7.2053e-04\n",
      "Epoch 8/10\n",
      "263/263 [==============================] - 2s 6ms/step - loss: 9.3019e-04 - val_loss: 5.5640e-04\n",
      "Epoch 9/10\n",
      "263/263 [==============================] - 3s 11ms/step - loss: 7.5566e-04 - val_loss: 5.8890e-04\n",
      "Epoch 10/10\n",
      "263/263 [==============================] - 2s 8ms/step - loss: 6.7265e-04 - val_loss: 6.7017e-04\n",
      "  1/113 [..............................] - ETA: 0s - loss: 0.0014WARNING:tensorflow:Callbacks method `on_test_batch_end` is slow compared to the batch time (batch time: 0.0000s vs `on_test_batch_end` time: 0.0050s). Check your callbacks.\n",
      "113/113 [==============================] - 1s 8ms/step - loss: 6.7017e-04\n"
     ]
    }
   ],
   "metadata": {}
  },
  {
   "cell_type": "code",
   "execution_count": 148,
   "source": [
    "score = model.evaluate(X_test,\r\n",
    "y_test,\r\n",
    "batch_size=32)"
   ],
   "outputs": [
    {
     "output_type": "stream",
     "name": "stdout",
     "text": [
      "  1/113 [..............................] - ETA: 0s - loss: 3.3928e-04WARNING:tensorflow:Callbacks method `on_test_batch_end` is slow compared to the batch time (batch time: 0.0000s vs `on_test_batch_end` time: 0.0050s). Check your callbacks.\n",
      "113/113 [==============================] - 0s 4ms/step - loss: 6.6287e-05\n"
     ]
    }
   ],
   "metadata": {}
  },
  {
   "cell_type": "code",
   "execution_count": 184,
   "source": [
    "pred = model.predict(X1_test, batch_size=32)"
   ],
   "outputs": [],
   "metadata": {}
  },
  {
   "cell_type": "code",
   "execution_count": 186,
   "source": [
    "from sklearn.metrics import mean_squared_error\r\n",
    "print(mean_squared_error(y1_test,pred))"
   ],
   "outputs": [
    {
     "output_type": "stream",
     "name": "stdout",
     "text": [
      "0.0006701718018136757\n"
     ]
    }
   ],
   "metadata": {}
  },
  {
   "cell_type": "code",
   "execution_count": 151,
   "source": [
    "from sklearn.ensemble import RandomForestRegressor\r\n",
    "rfr = RandomForestRegressor()\r\n",
    "rfr.fit(X_train,y_train)\r\n",
    "predict = rfr.predict(X_test)\r\n",
    "from sklearn.metrics import mean_squared_error,mean_absolute_error\r\n",
    "print(mean_squared_error(y_test,predict))"
   ],
   "outputs": [
    {
     "output_type": "stream",
     "name": "stdout",
     "text": [
      "8.570872616807018e-07\n"
     ]
    }
   ],
   "metadata": {}
  },
  {
   "cell_type": "code",
   "execution_count": 162,
   "source": [
    "from sklearn.ensemble import RandomForestRegressor\r\n",
    "rfr = RandomForestRegressor()\r\n",
    "rfr.fit(X1_train,y1_train)\r\n",
    "predict = rfr.predict(X1_test)\r\n",
    "from sklearn.metrics import mean_squared_error,mean_absolute_error\r\n",
    "print(mean_squared_error(y1_test,predict))"
   ],
   "outputs": [
    {
     "output_type": "stream",
     "name": "stdout",
     "text": [
      "2.0430260320872632e-08\n"
     ]
    }
   ],
   "metadata": {}
  },
  {
   "cell_type": "code",
   "execution_count": 169,
   "source": [
    "y1_test"
   ],
   "outputs": [
    {
     "output_type": "execute_result",
     "data": {
      "text/plain": [
       "7163     0.4898\n",
       "10386    0.9011\n",
       "1902     0.7965\n",
       "3397     0.7516\n",
       "11696    0.9055\n",
       "          ...  \n",
       "5544     0.8804\n",
       "11694    0.9068\n",
       "5477     0.9055\n",
       "588      0.8929\n",
       "7719     0.8913\n",
       "Name: Hl, Length: 3601, dtype: float64"
      ]
     },
     "metadata": {},
     "execution_count": 169
    }
   ],
   "metadata": {}
  },
  {
   "cell_type": "code",
   "execution_count": 187,
   "source": [
    "pred = pd.DataFrame(pred)\r\n",
    "predict = pd.DataFrame(predict)"
   ],
   "outputs": [],
   "metadata": {}
  },
  {
   "cell_type": "code",
   "execution_count": 188,
   "source": [
    "X1_test.reset_index(drop=True, inplace=True)\r\n",
    "y1_test.reset_index(drop=True, inplace=True)\r\n",
    "pred.reset_index(drop=True, inplace=True)\r\n",
    "predict.reset_index(drop=True, inplace=True)"
   ],
   "outputs": [],
   "metadata": {}
  },
  {
   "cell_type": "code",
   "execution_count": 189,
   "source": [
    "pred[\"ANN\"] = pred\r\n",
    "predict[\"Random_Forrest\"] = predict"
   ],
   "outputs": [],
   "metadata": {}
  },
  {
   "cell_type": "code",
   "execution_count": null,
   "source": [
    "pred.drop(0,  axis='columns', inplace=True)\r\n",
    "predict.drop(0,  axis='columns', inplace=True)"
   ],
   "outputs": [],
   "metadata": {}
  },
  {
   "cell_type": "code",
   "execution_count": 190,
   "source": [
    "run1 = pd.concat([X1_test,y1_test,pred,predict], axis=1)"
   ],
   "outputs": [],
   "metadata": {}
  },
  {
   "cell_type": "code",
   "execution_count": 191,
   "source": [
    "run1"
   ],
   "outputs": [
    {
     "output_type": "execute_result",
     "data": {
      "text/html": [
       "<div>\n",
       "<style scoped>\n",
       "    .dataframe tbody tr th:only-of-type {\n",
       "        vertical-align: middle;\n",
       "    }\n",
       "\n",
       "    .dataframe tbody tr th {\n",
       "        vertical-align: top;\n",
       "    }\n",
       "\n",
       "    .dataframe thead th {\n",
       "        text-align: right;\n",
       "    }\n",
       "</style>\n",
       "<table border=\"1\" class=\"dataframe\">\n",
       "  <thead>\n",
       "    <tr style=\"text-align: right;\">\n",
       "      <th></th>\n",
       "      <th>Time (sec)</th>\n",
       "      <th>Usl(m/s)</th>\n",
       "      <th>Usg(m/s)</th>\n",
       "      <th>Vf</th>\n",
       "      <th>bins</th>\n",
       "      <th>Freq.</th>\n",
       "      <th>PDF</th>\n",
       "      <th>Hl</th>\n",
       "      <th>0</th>\n",
       "      <th>ANN</th>\n",
       "      <th>0</th>\n",
       "      <th>Random_Forrest</th>\n",
       "    </tr>\n",
       "  </thead>\n",
       "  <tbody>\n",
       "    <tr>\n",
       "      <th>0</th>\n",
       "      <td>35.815</td>\n",
       "      <td>0.05</td>\n",
       "      <td>0.047</td>\n",
       "      <td>0.5102</td>\n",
       "      <td>0.0</td>\n",
       "      <td>0</td>\n",
       "      <td>0.0</td>\n",
       "      <td>0.4898</td>\n",
       "      <td>0.495317</td>\n",
       "      <td>0.495317</td>\n",
       "      <td>0.489807</td>\n",
       "      <td>0.489807</td>\n",
       "    </tr>\n",
       "    <tr>\n",
       "      <th>1</th>\n",
       "      <td>51.930</td>\n",
       "      <td>0.05</td>\n",
       "      <td>0.047</td>\n",
       "      <td>0.0989</td>\n",
       "      <td>0.0</td>\n",
       "      <td>0</td>\n",
       "      <td>0.0</td>\n",
       "      <td>0.9011</td>\n",
       "      <td>0.905301</td>\n",
       "      <td>0.905301</td>\n",
       "      <td>0.901191</td>\n",
       "      <td>0.901191</td>\n",
       "    </tr>\n",
       "    <tr>\n",
       "      <th>2</th>\n",
       "      <td>9.510</td>\n",
       "      <td>0.05</td>\n",
       "      <td>0.047</td>\n",
       "      <td>0.2035</td>\n",
       "      <td>0.0</td>\n",
       "      <td>0</td>\n",
       "      <td>0.0</td>\n",
       "      <td>0.7965</td>\n",
       "      <td>0.791546</td>\n",
       "      <td>0.791546</td>\n",
       "      <td>0.796271</td>\n",
       "      <td>0.796271</td>\n",
       "    </tr>\n",
       "    <tr>\n",
       "      <th>3</th>\n",
       "      <td>16.985</td>\n",
       "      <td>0.05</td>\n",
       "      <td>0.047</td>\n",
       "      <td>0.2484</td>\n",
       "      <td>0.0</td>\n",
       "      <td>0</td>\n",
       "      <td>0.0</td>\n",
       "      <td>0.7516</td>\n",
       "      <td>0.749076</td>\n",
       "      <td>0.749076</td>\n",
       "      <td>0.751730</td>\n",
       "      <td>0.751730</td>\n",
       "    </tr>\n",
       "    <tr>\n",
       "      <th>4</th>\n",
       "      <td>58.480</td>\n",
       "      <td>0.05</td>\n",
       "      <td>0.047</td>\n",
       "      <td>0.0945</td>\n",
       "      <td>0.0</td>\n",
       "      <td>0</td>\n",
       "      <td>0.0</td>\n",
       "      <td>0.9055</td>\n",
       "      <td>0.911266</td>\n",
       "      <td>0.911266</td>\n",
       "      <td>0.905456</td>\n",
       "      <td>0.905456</td>\n",
       "    </tr>\n",
       "    <tr>\n",
       "      <th>...</th>\n",
       "      <td>...</td>\n",
       "      <td>...</td>\n",
       "      <td>...</td>\n",
       "      <td>...</td>\n",
       "      <td>...</td>\n",
       "      <td>...</td>\n",
       "      <td>...</td>\n",
       "      <td>...</td>\n",
       "      <td>...</td>\n",
       "      <td>...</td>\n",
       "      <td>...</td>\n",
       "      <td>...</td>\n",
       "    </tr>\n",
       "    <tr>\n",
       "      <th>3596</th>\n",
       "      <td>27.720</td>\n",
       "      <td>0.05</td>\n",
       "      <td>0.047</td>\n",
       "      <td>0.1196</td>\n",
       "      <td>0.0</td>\n",
       "      <td>0</td>\n",
       "      <td>0.0</td>\n",
       "      <td>0.8804</td>\n",
       "      <td>0.878872</td>\n",
       "      <td>0.878872</td>\n",
       "      <td>0.880424</td>\n",
       "      <td>0.880424</td>\n",
       "    </tr>\n",
       "    <tr>\n",
       "      <th>3597</th>\n",
       "      <td>58.470</td>\n",
       "      <td>0.05</td>\n",
       "      <td>0.047</td>\n",
       "      <td>0.0932</td>\n",
       "      <td>0.0</td>\n",
       "      <td>0</td>\n",
       "      <td>0.0</td>\n",
       "      <td>0.9068</td>\n",
       "      <td>0.912547</td>\n",
       "      <td>0.912547</td>\n",
       "      <td>0.906925</td>\n",
       "      <td>0.906925</td>\n",
       "    </tr>\n",
       "    <tr>\n",
       "      <th>3598</th>\n",
       "      <td>27.385</td>\n",
       "      <td>0.05</td>\n",
       "      <td>0.047</td>\n",
       "      <td>0.0945</td>\n",
       "      <td>0.0</td>\n",
       "      <td>0</td>\n",
       "      <td>0.0</td>\n",
       "      <td>0.9055</td>\n",
       "      <td>0.903566</td>\n",
       "      <td>0.903566</td>\n",
       "      <td>0.905456</td>\n",
       "      <td>0.905456</td>\n",
       "    </tr>\n",
       "    <tr>\n",
       "      <th>3599</th>\n",
       "      <td>2.940</td>\n",
       "      <td>0.05</td>\n",
       "      <td>0.047</td>\n",
       "      <td>0.1071</td>\n",
       "      <td>0.0</td>\n",
       "      <td>0</td>\n",
       "      <td>0.0</td>\n",
       "      <td>0.8929</td>\n",
       "      <td>0.885075</td>\n",
       "      <td>0.885075</td>\n",
       "      <td>0.892927</td>\n",
       "      <td>0.892927</td>\n",
       "    </tr>\n",
       "    <tr>\n",
       "      <th>3600</th>\n",
       "      <td>38.595</td>\n",
       "      <td>0.05</td>\n",
       "      <td>0.047</td>\n",
       "      <td>0.1087</td>\n",
       "      <td>0.0</td>\n",
       "      <td>0</td>\n",
       "      <td>0.0</td>\n",
       "      <td>0.8913</td>\n",
       "      <td>0.892325</td>\n",
       "      <td>0.892325</td>\n",
       "      <td>0.891254</td>\n",
       "      <td>0.891254</td>\n",
       "    </tr>\n",
       "  </tbody>\n",
       "</table>\n",
       "<p>3601 rows × 12 columns</p>\n",
       "</div>"
      ],
      "text/plain": [
       "      Time (sec)  Usl(m/s)  Usg(m/s)      Vf  bins  Freq.  PDF      Hl  \\\n",
       "0         35.815      0.05     0.047  0.5102   0.0      0  0.0  0.4898   \n",
       "1         51.930      0.05     0.047  0.0989   0.0      0  0.0  0.9011   \n",
       "2          9.510      0.05     0.047  0.2035   0.0      0  0.0  0.7965   \n",
       "3         16.985      0.05     0.047  0.2484   0.0      0  0.0  0.7516   \n",
       "4         58.480      0.05     0.047  0.0945   0.0      0  0.0  0.9055   \n",
       "...          ...       ...       ...     ...   ...    ...  ...     ...   \n",
       "3596      27.720      0.05     0.047  0.1196   0.0      0  0.0  0.8804   \n",
       "3597      58.470      0.05     0.047  0.0932   0.0      0  0.0  0.9068   \n",
       "3598      27.385      0.05     0.047  0.0945   0.0      0  0.0  0.9055   \n",
       "3599       2.940      0.05     0.047  0.1071   0.0      0  0.0  0.8929   \n",
       "3600      38.595      0.05     0.047  0.1087   0.0      0  0.0  0.8913   \n",
       "\n",
       "             0       ANN         0  Random_Forrest  \n",
       "0     0.495317  0.495317  0.489807        0.489807  \n",
       "1     0.905301  0.905301  0.901191        0.901191  \n",
       "2     0.791546  0.791546  0.796271        0.796271  \n",
       "3     0.749076  0.749076  0.751730        0.751730  \n",
       "4     0.911266  0.911266  0.905456        0.905456  \n",
       "...        ...       ...       ...             ...  \n",
       "3596  0.878872  0.878872  0.880424        0.880424  \n",
       "3597  0.912547  0.912547  0.906925        0.906925  \n",
       "3598  0.903566  0.903566  0.905456        0.905456  \n",
       "3599  0.885075  0.885075  0.892927        0.892927  \n",
       "3600  0.892325  0.892325  0.891254        0.891254  \n",
       "\n",
       "[3601 rows x 12 columns]"
      ]
     },
     "metadata": {},
     "execution_count": 191
    }
   ],
   "metadata": {}
  },
  {
   "cell_type": "code",
   "execution_count": null,
   "source": [],
   "outputs": [],
   "metadata": {}
  }
 ],
 "metadata": {
  "kernelspec": {
   "display_name": "Python 3",
   "language": "python",
   "name": "python3"
  },
  "language_info": {
   "codemirror_mode": {
    "name": "ipython",
    "version": 3
   },
   "file_extension": ".py",
   "mimetype": "text/x-python",
   "name": "python",
   "nbconvert_exporter": "python",
   "pygments_lexer": "ipython3",
   "version": "3.8.5"
  }
 },
 "nbformat": 4,
 "nbformat_minor": 5
}